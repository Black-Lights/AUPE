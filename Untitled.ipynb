{
 "cells": [
  {
   "cell_type": "code",
   "execution_count": null,
   "id": "bfb66db9-f302-41eb-8ae1-66a493c266f7",
   "metadata": {},
   "outputs": [
    {
     "name": "stdout",
     "output_type": "stream",
     "text": [
      " * Serving Flask app '__main__'\n",
      " * Debug mode: on\n"
     ]
    },
    {
     "name": "stderr",
     "output_type": "stream",
     "text": [
      "WARNING: This is a development server. Do not use it in a production deployment. Use a production WSGI server instead.\n",
      " * Running on http://127.0.0.1:8000\n",
      "Press CTRL+C to quit\n",
      "127.0.0.1 - - [23/Jun/2024 20:19:17] \"GET /map HTTP/1.1\" 500 -\n"
     ]
    },
    {
     "name": "stdout",
     "output_type": "stream",
     "text": [
      "Error generating map: ParseException: Unknown WKB type 541\n"
     ]
    }
   ],
   "source": [
    "from flask import Flask, render_template\n",
    "import geopandas as gpd\n",
    "import folium\n",
    "from sqlalchemy import create_engine\n",
    "from config import db_name, user, password, host\n",
    "\n",
    "app = Flask(__name__)\n",
    "app.config['DEBUG'] = True\n",
    "\n",
    "# SQLAlchemy engine setup\n",
    "engine = create_engine(f'postgresql+psycopg2://{user}:{password}@{host}/{db_name}')\n",
    "\n",
    "@app.route('/map', methods=['GET'])\n",
    "def generate_map():\n",
    "    try:\n",
    "        # Read geometry data from PostgreSQL into GeoDataFrame\n",
    "        query = \"SELECT *, ST_AsText(geometry) AS geom_wkt FROM dataset\"\n",
    "        gdf = gpd.read_postgis(query, engine, geom_col='geom_wkt')\n",
    "\n",
    "        # Ensure correct GeoDataFrame type handling\n",
    "        gdf['geometry'] = gpd.GeoSeries.from_wkt(gdf['geom_wkt'])\n",
    "\n",
    "        # Create a Folium map centered on a specific location\n",
    "        m = folium.Map(location=[45.5, 9.0], zoom_start=8)  # Adjust location and zoom as needed\n",
    "\n",
    "        # Add GeoJSON layer with choropleth data\n",
    "        folium.Choropleth(\n",
    "            geo_data=gdf.to_json(),\n",
    "            name='choropleth',\n",
    "            data=gdf,\n",
    "            columns=['uid', 'ar_fr_p3p4'],\n",
    "            key_on='feature.properties.uid',\n",
    "            fill_color='YlOrRd',\n",
    "            fill_opacity=0.7,\n",
    "            line_opacity=0.2,\n",
    "            legend_name='Surface area with very high and high landslide risk (km2)'\n",
    "        ).add_to(m)\n",
    "\n",
    "        # Save the map as an HTML file\n",
    "        m.save('templates/map.html')\n",
    "\n",
    "        # Render the HTML template\n",
    "        return render_template('map.html')\n",
    "\n",
    "    except Exception as e:\n",
    "        print(f\"Error generating map: {e}\")\n",
    "        return \"Error generating map\", 500\n",
    "\n",
    "if __name__ == '__main__':\n",
    "    app.run(debug=True, port=8000, use_reloader=False)\n",
    "\n",
    "\n"
   ]
  }
 ],
 "metadata": {
  "kernelspec": {
   "display_name": "Python 3 (ipykernel)",
   "language": "python",
   "name": "python3"
  },
  "language_info": {
   "codemirror_mode": {
    "name": "ipython",
    "version": 3
   },
   "file_extension": ".py",
   "mimetype": "text/x-python",
   "name": "python",
   "nbconvert_exporter": "python",
   "pygments_lexer": "ipython3",
   "version": "3.12.2"
  }
 },
 "nbformat": 4,
 "nbformat_minor": 5
}
