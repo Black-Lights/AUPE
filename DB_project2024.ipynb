{
 "cells": [
  {
   "cell_type": "code",
   "execution_count": 1,
   "id": "d8e69835-7e26-4567-99d5-e827fd00f913",
   "metadata": {},
   "outputs": [],
   "source": [
    "from sqlalchemy import create_engine, Column, Integer, String, Float\n",
    "from sqlalchemy.ext.declarative import declarative_base\n",
    "from sqlalchemy.orm import sessionmaker\n",
    "from geoalchemy2 import Geometry\n",
    "import geopandas as gpd\n",
    "import pandas as pd\n",
    "from shapely import wkt\n",
    "import psycopg2"
   ]
  },
  {
   "cell_type": "code",
   "execution_count": 2,
   "id": "35a4b261-74de-4c91-96b0-adb30f15e897",
   "metadata": {},
   "outputs": [],
   "source": [
    "# import packages\n",
    "import requests\n",
    "import json\n",
    "import pandas as pd\n",
    "import geopandas as gpd"
   ]
  },
  {
   "cell_type": "code",
   "execution_count": 3,
   "id": "d7284b66-09ab-460a-860f-2f70f5247305",
   "metadata": {},
   "outputs": [
    {
     "name": "stdout",
     "output_type": "stream",
     "text": [
      "Requirement already satisfied: GeoAlchemy2 in c:\\programdata\\anaconda3\\envs\\se4gdev\\lib\\site-packages (0.14.7)\n",
      "Requirement already satisfied: SQLAlchemy in c:\\programdata\\anaconda3\\envs\\se4gdev\\lib\\site-packages (2.0.30)\n",
      "Requirement already satisfied: psycopg2 in c:\\programdata\\anaconda3\\envs\\se4gdev\\lib\\site-packages (2.9.9)\n",
      "Requirement already satisfied: packaging in c:\\users\\mohd ammar mughees\\appdata\\roaming\\python\\python312\\site-packages (from GeoAlchemy2) (24.1)\n",
      "Requirement already satisfied: typing-extensions>=4.6.0 in c:\\programdata\\anaconda3\\envs\\se4gdev\\lib\\site-packages (from SQLAlchemy) (4.11.0)\n",
      "Requirement already satisfied: greenlet!=0.4.17 in c:\\programdata\\anaconda3\\envs\\se4gdev\\lib\\site-packages (from SQLAlchemy) (3.0.3)\n",
      "Note: you may need to restart the kernel to use updated packages.\n"
     ]
    }
   ],
   "source": [
    "pip install GeoAlchemy2 SQLAlchemy psycopg2"
   ]
  },
  {
   "cell_type": "markdown",
   "id": "245ea391-23bc-4583-a850-afbdeceebaae",
   "metadata": {},
   "source": [
    "# Creating dataframe of API"
   ]
  },
  {
   "cell_type": "code",
   "execution_count": 4,
   "id": "f99d4563-91a5-461e-a0ef-a70cc9bd5da6",
   "metadata": {},
   "outputs": [],
   "source": [
    "# send the request\n",
    "def jason2dataf(url):\n",
    "    response = requests.get(url)\n",
    "    response\n",
    "    # store the raw text of the response in a variable\n",
    "    raw_data = response.text\n",
    "    raw_data\n",
    "    # parse the raw text response into a JSON\n",
    "    data = json.loads(raw_data)\n",
    "    data\n",
    "    # from JSON to Pandas DataFrame\n",
    "    data_df = pd.json_normalize(data)\n",
    "    return data_df"
   ]
  },
  {
   "cell_type": "code",
   "execution_count": 5,
   "id": "24f6ebeb-8b38-4d86-ae01-1520ad6c8af9",
   "metadata": {},
   "outputs": [],
   "source": [
    "#dataf_liguria = jason2dataf('https://test.idrogeo.isprambiente.it/api/pir/regioni/7')\n",
    "dataf_lombardia = jason2dataf('https://test.idrogeo.isprambiente.it/api/pir/regioni/3')\n",
    "#dataf_Piemonte = jason2dataf('https://test.idrogeo.isprambiente.it/api/pir/regioni/1')\n",
    "#dataf_valle = jason2dataf('https://test.idrogeo.isprambiente.it/api/pir/regioni/2')\n",
    "data_prov_milan = jason2dataf('https://test.idrogeo.isprambiente.it/api/pir/province/15')\n",
    "data_prov_varese = jason2dataf('https://test.idrogeo.isprambiente.it/api/pir/province/12')\n",
    "data_prov_como = jason2dataf('https://test.idrogeo.isprambiente.it/api/pir/province/13')\n",
    "data_prov_lecco = jason2dataf('https://test.idrogeo.isprambiente.it/api/pir/province/97')\n",
    "data_prov_sondrio = jason2dataf('https://test.idrogeo.isprambiente.it/api/pir/province/14')\n",
    "data_prov_bergamo = jason2dataf('https://test.idrogeo.isprambiente.it/api/pir/province/16')\n",
    "data_prov_brescia = jason2dataf('https://test.idrogeo.isprambiente.it/api/pir/province/17')\n",
    "data_prov_pavia = jason2dataf('https://test.idrogeo.isprambiente.it/api/pir/province/18')\n",
    "data_prov_cremona = jason2dataf('https://test.idrogeo.isprambiente.it/api/pir/province/19')\n",
    "data_prov_mantova = jason2dataf('https://test.idrogeo.isprambiente.it/api/pir/province/20')\n",
    "data_prov_lodi = jason2dataf('https://test.idrogeo.isprambiente.it/api/pir/province/98')\n",
    "data_prov_Monza = jason2dataf('https://test.idrogeo.isprambiente.it/api/pir/province/108')\n",
    "\n"
   ]
  },
  {
   "cell_type": "code",
   "execution_count": 6,
   "id": "638f1e1b-c422-4aae-ae44-918aa78f5c8a",
   "metadata": {},
   "outputs": [],
   "source": [
    "# Merge the DataFrames\n",
    "merged_df = pd.concat([data_prov_milan, data_prov_varese,data_prov_como,data_prov_lecco,data_prov_sondrio,data_prov_bergamo,data_prov_brescia,data_prov_pavia,data_prov_cremona,data_prov_mantova,data_prov_lodi,data_prov_Monza]).reset_index(drop=True)\n",
    "\n",
    "# Display the merged DataFrame\n",
    "merged_df.rename(columns={'cod_prov':'COD_PROV'}, inplace=True)\n"
   ]
  },
  {
   "cell_type": "markdown",
   "id": "fcd29129-0f0f-4680-ad74-df8d128a3a8b",
   "metadata": {},
   "source": [
    "# Creating dataframe of shapefiles"
   ]
  },
  {
   "cell_type": "code",
   "execution_count": 7,
   "id": "82bbcf5c-1d81-45b3-b7a4-cffcdff04c9a",
   "metadata": {},
   "outputs": [],
   "source": [
    "shapefile_path_region = \"./Limiti01012024_g/Reg01012024_g/Reg01012024_g_WGS84.shp\"\n",
    "shapefile_path_province = \"./Limiti01012024_g/ProvCM01012024_g/ProvCM01012024_g_WGS84.shp\"\n",
    "gdf_region = gpd.read_file(shapefile_path_region)\n",
    "gdf_province = gpd.read_file(shapefile_path_province)"
   ]
  },
  {
   "cell_type": "markdown",
   "id": "6a664039-021c-4c60-88c9-9baf38f87b6e",
   "metadata": {},
   "source": [
    "# filter dataframe with desire columns "
   ]
  },
  {
   "cell_type": "code",
   "execution_count": 8,
   "id": "8647d885-a405-45d7-8854-dd514e2b760e",
   "metadata": {},
   "outputs": [],
   "source": [
    "\n",
    "desired_cod_RIP = [15,12,13,97,14,16,17,18,19,20,98,108]\n",
    "\n",
    "# Filter the GeoDataFrame based on the desired cod_RIP values\n",
    "filtered_gdf = gdf_province[gdf_province['COD_PROV'].isin(desired_cod_RIP)]\n",
    "\n",
    "# Display the filtered DataFrame\n"
   ]
  },
  {
   "cell_type": "code",
   "execution_count": 9,
   "id": "c9475145-0623-4d53-9a5a-43001bdd6396",
   "metadata": {},
   "outputs": [
    {
     "name": "stdout",
     "output_type": "stream",
     "text": [
      "Empty GeoDataFrame\n",
      "Columns: [COD_RIP, COD_REG, COD_PROV, COD_CM, COD_UTS, DEN_PROV, DEN_CM, DEN_UTS, SIGLA, TIPO_UTS, Shape_Leng, Shape_Area, geometry]\n",
      "Index: []\n"
     ]
    }
   ],
   "source": [
    "desired_cod_REG = [3]\n",
    "\n",
    "# Filter the GeoDataFrame based on the desired cod_RIP values\n",
    "filtered_gdf2 = filtered_gdf[filtered_gdf['COD_RIP'].isin(desired_cod_REG)]\n",
    "\n",
    "# Display the filtered DataFrame\n",
    "print(filtered_gdf2)"
   ]
  },
  {
   "cell_type": "code",
   "execution_count": 10,
   "id": "cd3f0381-00d4-4e20-b399-b958ae8e0616",
   "metadata": {},
   "outputs": [],
   "source": [
    "merged_df2 = merged_df.merge(filtered_gdf[['COD_PROV', 'geometry']], on='COD_PROV', how='left')"
   ]
  },
  {
   "cell_type": "code",
   "execution_count": 11,
   "id": "a568671f-6b2b-420f-88e7-c829dba20d90",
   "metadata": {},
   "outputs": [],
   "source": [
    "columns_to_select = ['geometry','cod_reg','cod_rip','COD_PROV','ar_kmq','nome','uid',\n",
    "    'ar_fr_p3p4', 'ar_fr_p2', 'ar_fr_p1', \n",
    "    'pop_fr_p2', 'pop_fr_p1', \n",
    "    'ed_fr_p2', 'ed_fr_p1', \n",
    "    'ar_frp3p4p', 'popfrp3p4p', \n",
    "    'ed_fr_p3p4', 'edfrp3p4p'\n",
    "]\n",
    "\n",
    "# Select the columns\n",
    "selected_df = merged_df2[columns_to_select]\n",
    "selected_df2 = selected_df.copy()"
   ]
  },
  {
   "cell_type": "markdown",
   "id": "47bd3f59-6c2e-4687-87a4-ebb77886b352",
   "metadata": {},
   "source": [
    "# Creating DB"
   ]
  },
  {
   "cell_type": "code",
   "execution_count": 12,
   "id": "48a45522-45b5-4b7a-87f3-d4b78e494a8d",
   "metadata": {},
   "outputs": [
    {
     "name": "stdout",
     "output_type": "stream",
     "text": [
      "se_proj se4g user localhost\n"
     ]
    }
   ],
   "source": [
    "from config import db_name, user, password, host\n",
    "# Database connection parameters\n",
    "# with open('config.py', 'w') as f:\n",
    "#     f.write(db_name = input(f'Enter the database name for the postgres:\\n'))\n",
    "#     f.write(user = input(f'Enter the user for the postgres:\\n'))\n",
    "#     f.write(password = input(f'Enter the Password for the postgres:\\n'))\n",
    "#     f.write(host = input(f'Enter the host for the postgres:\\n'))\n",
    "\n",
    "# db_name = \"project\"\n",
    "# user = \"postgres\"\n",
    "# password = \"admin\"\n",
    "# host = \"localhost\"\n",
    "print (db_name, user, password, host)\n",
    "# db_name = \"project\"\n",
    "# user = \"postgres\"\n",
    "# password = \"admin\"\n",
    "# host = \"localhost\"\n",
    "\n",
    "# Connect to the default database to create the new database\n",
    "conn = psycopg2.connect(dbname=\"postgres\", user=user, password=password, host=host)\n",
    "conn.autocommit = True # needed to create a db programmatically\n",
    "cursor = conn.cursor()\n",
    "\n",
    "# Create the database\n",
    "try:\n",
    "    cursor.execute(f\"CREATE DATABASE {db_name};\")\n",
    "except: pass\n",
    "\n",
    "conn.close()"
   ]
  },
  {
   "cell_type": "markdown",
   "id": "f8b43ce4-023f-4aea-ab3c-0409d79b8600",
   "metadata": {},
   "source": [
    "# Creating table"
   ]
  },
  {
   "cell_type": "code",
   "execution_count": 13,
   "id": "3ebdc1f1-912d-4490-a798-f64b0d1af1b7",
   "metadata": {},
   "outputs": [
    {
     "name": "stderr",
     "output_type": "stream",
     "text": [
      "C:\\Users\\Mohd Ammar Mughees\\AppData\\Local\\Temp\\ipykernel_8864\\1135081772.py:2: MovedIn20Warning: The ``declarative_base()`` function is now available as sqlalchemy.orm.declarative_base(). (deprecated since: 2.0) (Background on SQLAlchemy 2.0 at: https://sqlalche.me/e/b8d9)\n",
      "  Base = declarative_base()\n"
     ]
    }
   ],
   "source": [
    "# Create SQLAlchemy base\n",
    "Base = declarative_base()\n",
    "# Define the table schema\n",
    "class Dataset(Base):\n",
    "    __tablename__ = 'dataset'\n",
    "    id = Column(Integer, primary_key=True, autoincrement=True)\n",
    "    cod_reg = Column(Integer)\n",
    "    cod_rip = Column(Integer)\n",
    "    cod_prov = Column(Integer)\n",
    "    ar_kmq = Column(Float)\n",
    "    nome = Column(String)\n",
    "    uid = Column(Integer)\n",
    "    ar_fr_p3p4 = Column(Float)\n",
    "    ar_fr_p2 = Column(Float)\n",
    "    ar_fr_p1 = Column(Float)\n",
    "    pop_fr_p2 = Column(Float)\n",
    "    pop_fr_p1 = Column(Float)\n",
    "    ed_fr_p2 = Column(Float)\n",
    "    ed_fr_p1 = Column(Float)\n",
    "    ar_frp3p4p = Column(Float)\n",
    "    popfrp3p4p = Column(Float)\n",
    "    ed_fr_p3p4 = Column(Float)\n",
    "    edfrp3p4p = Column(Float)\n",
    "    geometry = Column(Geometry('MULTIPOLYGON'))\n",
    "\n",
    "# Create an engine and connect to the PostgreSQL database\n",
    "engine = create_engine(f'postgresql+psycopg2://{user}:{password}@{host}:5432/{db_name}')\n",
    "Base.metadata.create_all(engine)"
   ]
  },
  {
   "cell_type": "markdown",
   "id": "88444600-140b-421e-b4b6-0e97f2ad0faa",
   "metadata": {},
   "source": [
    "# complete the rows of table by information of API and shapefiles\n"
   ]
  },
  {
   "cell_type": "code",
   "execution_count": 14,
   "id": "2b28373a-f4b1-41a1-804e-6c4e152b8b02",
   "metadata": {},
   "outputs": [],
   "source": [
    "\n",
    "#gdf = gpd.GeoDataFrame(selected_df2, geometry=gpd.GeoSeries.from_wkt(selected_df2['geometry']))\n",
    "\n",
    "# Convert geometries to WKT format\n",
    "#gdf['geometry'] = gdf['geometry'].apply(lambda geom: geom.wkt)\n",
    "selected_df2['geometry'] = selected_df2['geometry'].apply(wkt.dumps)\n",
    "# Insert the data into the PostgreSQL database\n",
    "Session = sessionmaker(bind=engine)\n",
    "session = Session()\n",
    "\n",
    "for index, row in selected_df2.iterrows():\n",
    "    dataset_entry = Dataset(\n",
    "        cod_reg=row['cod_reg'],\n",
    "        cod_rip=row['cod_rip'],\n",
    "        cod_prov=row['COD_PROV'],\n",
    "        ar_kmq=row['ar_kmq'],\n",
    "        nome=row['nome'],\n",
    "        uid=row['uid'],\n",
    "        ar_fr_p3p4=row['ar_fr_p3p4'],\n",
    "        ar_fr_p2=row['ar_fr_p2'],\n",
    "        ar_fr_p1=row['ar_fr_p1'],\n",
    "        pop_fr_p2=row['pop_fr_p2'],\n",
    "        pop_fr_p1=row['pop_fr_p1'],\n",
    "        ed_fr_p2=row['ed_fr_p2'],\n",
    "        ed_fr_p1=row['ed_fr_p1'],\n",
    "        ar_frp3p4p=row['ar_frp3p4p'],\n",
    "        popfrp3p4p=row['popfrp3p4p'],\n",
    "        ed_fr_p3p4=row['ed_fr_p3p4'],\n",
    "        edfrp3p4p=row['edfrp3p4p'],\n",
    "        geometry=row['geometry']\n",
    "    )\n",
    "    session.add(dataset_entry)\n",
    "\n",
    "session.commit()\n",
    "session.close()"
   ]
  },
  {
   "cell_type": "code",
   "execution_count": 15,
   "id": "830a0883-1560-4726-848d-fa884655384f",
   "metadata": {},
   "outputs": [],
   "source": [
    "# db is finished "
   ]
  },
  {
   "cell_type": "code",
   "execution_count": null,
   "id": "7a3ffa82-3834-4037-9f01-ded41ff21d78",
   "metadata": {},
   "outputs": [],
   "source": []
  },
  {
   "cell_type": "code",
   "execution_count": null,
   "id": "b7fd1b1e-11cc-4c68-b78f-d62d6b06f012",
   "metadata": {},
   "outputs": [],
   "source": []
  },
  {
   "cell_type": "code",
   "execution_count": null,
   "id": "e052998d-9b95-46f9-b783-49ddbfbabc41",
   "metadata": {},
   "outputs": [],
   "source": []
  },
  {
   "cell_type": "code",
   "execution_count": null,
   "id": "75d6611e-671c-43d0-9d68-ed99d1602952",
   "metadata": {},
   "outputs": [],
   "source": []
  },
  {
   "cell_type": "code",
   "execution_count": null,
   "id": "ae7db0f9-18fd-4008-bfe2-7bda6b8d5935",
   "metadata": {},
   "outputs": [],
   "source": []
  },
  {
   "cell_type": "code",
   "execution_count": null,
   "id": "9a738f5f-3172-4143-8ee4-f96ed37cc3fb",
   "metadata": {},
   "outputs": [],
   "source": []
  },
  {
   "cell_type": "code",
   "execution_count": null,
   "id": "d952ccc6-8c46-4ec9-8b4f-b9ef0257c598",
   "metadata": {},
   "outputs": [],
   "source": []
  }
 ],
 "metadata": {
  "kernelspec": {
   "display_name": "Python 3 (ipykernel)",
   "language": "python",
   "name": "python3"
  },
  "language_info": {
   "codemirror_mode": {
    "name": "ipython",
    "version": 3
   },
   "file_extension": ".py",
   "mimetype": "text/x-python",
   "name": "python",
   "nbconvert_exporter": "python",
   "pygments_lexer": "ipython3",
   "version": "3.12.3"
  }
 },
 "nbformat": 4,
 "nbformat_minor": 5
}
