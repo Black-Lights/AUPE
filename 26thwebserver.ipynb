{
 "cells": [
  {
   "cell_type": "code",
   "execution_count": null,
   "id": "adebf6df-dfe8-4749-9816-2286a072d786",
   "metadata": {},
   "outputs": [
    {
     "name": "stdout",
     "output_type": "stream",
     "text": [
      " * Serving Flask app '__main__'\n",
      " * Debug mode: on\n"
     ]
    },
    {
     "name": "stderr",
     "output_type": "stream",
     "text": [
      "WARNING: This is a development server. Do not use it in a production deployment. Use a production WSGI server instead.\n",
      " * Running on http://127.0.0.1:5000\n",
      "Press CTRL+C to quit\n"
     ]
    }
   ],
   "source": [
    "from flask import Flask, jsonify\n",
    "import psycopg2\n",
    "from psycopg2.extras import RealDictCursor\n",
    "from config import db_name, user, password, host\n",
    "\n",
    "app = Flask(__name__)\n",
    "\n",
    "def get_db_connection():\n",
    "    conn = psycopg2.connect(\n",
    "            dbname=db_name,\n",
    "            user=user,\n",
    "            password=password,\n",
    "            host=host\n",
    "        )\n",
    "    return conn\n",
    "\n",
    "@app.route('/map', methods=['GET'])\n",
    "def get_landslide_data():\n",
    "    conn = get_db_connection()\n",
    "    cursor = conn.cursor(cursor_factory=RealDictCursor)\n",
    "    cursor.execute('''\n",
    "    SELECT\n",
    "            cod_reg,\n",
    "            cod_rip,\n",
    "            COD_PROV,\n",
    "            ar_kmq,\n",
    "            nome,\n",
    "            uid,\n",
    "            ar_fr_p3p4,\n",
    "            ar_fr_p2,\n",
    "            ar_fr_p1,\n",
    "            pop_fr_p2,\n",
    "            pop_fr_p1,\n",
    "            ed_fr_p2,\n",
    "            ed_fr_p1,\n",
    "            ar_frp3p4p,\n",
    "            popfrp3p4p,\n",
    "            ed_fr_p3p4,\n",
    "            edfrp3p4p,\n",
    "            ST_AsText(ST_SnapToGrid(geometry, 0.001)) as geom_wkt  -- Adjust 0.001 for your desired precision\n",
    "        FROM dataset\n",
    "    ''')\n",
    "    data = cursor.fetchall()\n",
    "    cursor.close()\n",
    "    conn.close()\n",
    "    return jsonify(data)\n",
    "\n",
    "if __name__ == '__main__':\n",
    "    app.run(debug=True, port=5000, use_reloader=False)"
   ]
  }
 ],
 "metadata": {
  "kernelspec": {
   "display_name": "Python 3 (ipykernel)",
   "language": "python",
   "name": "python3"
  },
  "language_info": {
   "codemirror_mode": {
    "name": "ipython",
    "version": 3
   },
   "file_extension": ".py",
   "mimetype": "text/x-python",
   "name": "python",
   "nbconvert_exporter": "python",
   "pygments_lexer": "ipython3",
   "version": "3.12.2"
  }
 },
 "nbformat": 4,
 "nbformat_minor": 5
}
