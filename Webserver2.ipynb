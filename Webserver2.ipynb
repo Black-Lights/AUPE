{
 "cells": [
  {
   "cell_type": "code",
   "execution_count": null,
   "id": "8664bb79-21d4-4e02-9367-95ecdffac14a",
   "metadata": {},
   "outputs": [],
   "source": [
    "!pip install flask psycopg2-binary geopandas folium\n",
    "\n",
    "\n"
   ]
  },
  {
   "cell_type": "code",
   "execution_count": 1,
   "id": "4d0f2230-feb0-475b-a2ee-01042cf83683",
   "metadata": {},
   "outputs": [
    {
     "name": "stdout",
     "output_type": "stream",
     "text": [
      " * Serving Flask app '__main__'\n",
      " * Debug mode: on\n"
     ]
    },
    {
     "name": "stderr",
     "output_type": "stream",
     "text": [
      "WARNING: This is a development server. Do not use it in a production deployment. Use a production WSGI server instead.\n",
      " * Running on http://127.0.0.1:8000\n",
      "Press CTRL+C to quit\n",
      " * Restarting with watchdog (windowsapi)\n"
     ]
    },
    {
     "ename": "SystemExit",
     "evalue": "1",
     "output_type": "error",
     "traceback": [
      "An exception has occurred, use %tb to see the full traceback.\n",
      "\u001b[1;31mSystemExit\u001b[0m\u001b[1;31m:\u001b[0m 1\n"
     ]
    },
    {
     "name": "stderr",
     "output_type": "stream",
     "text": [
      "C:\\Users\\91700\\anaconda3\\envs\\se4g24\\Lib\\site-packages\\IPython\\core\\interactiveshell.py:3585: UserWarning: To exit: use 'exit', 'quit', or Ctrl-D.\n",
      "  warn(\"To exit: use 'exit', 'quit', or Ctrl-D.\", stacklevel=1)\n"
     ]
    }
   ],
   "source": [
    "from flask import Flask, jsonify, render_template\n",
    "import psycopg2\n",
    "from psycopg2.extras import RealDictCursor\n",
    "import geopandas as gpd\n",
    "import folium\n",
    "from config import db_name, user, password, host\n",
    "\n",
    "app = Flask(__name__)\n",
    "app.config['DEBUG'] = True\n",
    "\n",
    "def get_db_connection():\n",
    "    try:\n",
    "        conn = psycopg2.connect(\n",
    "            dbname=db_name,\n",
    "            user=user,\n",
    "            password=password,\n",
    "            host=host\n",
    "        )\n",
    "        return conn\n",
    "    except psycopg2.Error as e:\n",
    "        app.logger.error(f\"Error connecting to database: {e}\")\n",
    "        return None\n",
    "\n",
    "@app.route('/landslides/surface', methods=['GET'])\n",
    "def get_landslides():\n",
    "    conn = get_db_connection()\n",
    "    if conn is None:\n",
    "        return jsonify({\"error\": \"Database connection error\"}), 500\n",
    "    \n",
    "    try:\n",
    "        cursor = conn.cursor(cursor_factory=RealDictCursor)\n",
    "        cursor.execute(\"SELECT ST_AsText(geometry) AS geometry_wkt, ar_kmq , nome, ar_fr_p2, ar_fr_p1, ar_fr_p3p4, ar_frp3p4p FROM dataset\")\n",
    "        landslides = cursor.fetchall()\n",
    "        cursor.close()\n",
    "        conn.close()\n",
    "        return jsonify(landslides)\n",
    "    except psycopg2.Error as e:\n",
    "        app.logger.error(f\"Error executing SQL query: {e}\")\n",
    "        return jsonify({\"error\": \"Internal Server Error\"}), 500\n",
    "\n",
    "@app.route('/map')\n",
    "def generate_map():\n",
    "    conn = get_db_connection()\n",
    "    if conn is None:\n",
    "        return \"Error connecting to the database\", 500\n",
    "\n",
    "    try:\n",
    "        # Query to fetch data\n",
    "        query = \"\"\"\n",
    "        SELECT\n",
    "            cod_reg,\n",
    "            cod_rip,\n",
    "            COD_PROV,\n",
    "            ar_kmq,\n",
    "            nome,\n",
    "            uid,\n",
    "            ar_fr_p3p4,\n",
    "            ar_fr_p2,\n",
    "            ar_fr_p1,\n",
    "            pop_fr_p2,\n",
    "            pop_fr_p1,\n",
    "            ed_fr_p2,\n",
    "            ed_fr_p1,\n",
    "            ar_frp3p4p,\n",
    "            popfrp3p4p,\n",
    "            ed_fr_p3p4,\n",
    "            edfrp3p4p,\n",
    "            ST_AsText(geometry) as geometry\n",
    "        FROM dataset\n",
    "        \"\"\"\n",
    "        df = gpd.read_postgis(query, conn)\n",
    "        conn.close()\n",
    "\n",
    "        # Convert 'geometry' column to GeoSeries\n",
    "        df['geometry'] = gpd.GeoSeries.from_wkt(df['geometry'])\n",
    "        gdf = gpd.GeoDataFrame(df, geometry='geometry')\n",
    "\n",
    "        # Create a Folium map centered on a specific location\n",
    "        m = folium.Map(location=[42.5, 12.5], zoom_start=6)\n",
    "\n",
    "        # Add a choropleth layer to the map\n",
    "        folium.Choropleth(\n",
    "            geo_data=gdf,\n",
    "            name='choropleth',\n",
    "            data=gdf,\n",
    "            columns=['uid', 'ar_fr_p3p4'],\n",
    "            key_on='feature.properties.uid',\n",
    "            fill_color='YlOrRd',\n",
    "            fill_opacity=0.7,\n",
    "            line_opacity=0.2,\n",
    "            legend_name='Surface area with very high and very high landslide risk (km2)'\n",
    "        ).add_to(m)\n",
    "\n",
    "        # Save the map as an HTML file\n",
    "        m.save('templates/map.html')\n",
    "        return render_template('map.html')\n",
    "\n",
    "    except Exception as e:\n",
    "        app.logger.error(f\"Error processing data: {e}\")\n",
    "        return \"Error processing data\", 500\n",
    "\n",
    "if __name__ == '__main__':\n",
    "    app.run(debug=True, port=8000)\n",
    "\n"
   ]
  }
 ],
 "metadata": {
  "kernelspec": {
   "display_name": "Python 3 (ipykernel)",
   "language": "python",
   "name": "python3"
  },
  "language_info": {
   "codemirror_mode": {
    "name": "ipython",
    "version": 3
   },
   "file_extension": ".py",
   "mimetype": "text/x-python",
   "name": "python",
   "nbconvert_exporter": "python",
   "pygments_lexer": "ipython3",
   "version": "3.12.2"
  }
 },
 "nbformat": 4,
 "nbformat_minor": 5
}
