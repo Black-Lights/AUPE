!pip install dash


"""
import requests
import pandas as pd
import numpy as np
import plotly.express as px
from dash import Dash, dcc, html
from dash.dependencies import Input, Output, State

# Fetch data from the Flask API
def fetch_data():
    response = requests.get('http://127.0.0.1:5000/landslides/surface')
    return pd.DataFrame(response.json())

# Initialize the Dash app
app = Dash(__name__)

# Define the layout
app.layout = html.Div([
    html.H1('Landslides Hub'),

    # Dropdown to select province
    dcc.Dropdown(
        id='province-dropdown',
        placeholder='Select a province',
    ),

    # Display selected province
    html.Div(id='selected-province')
])

@app.callback(
    #Output('landslides-bar-chart', 'figure'),
    Output('province-dropdown', 'options'),
    [Input('province-dropdown', 'value')]
)
def update_dropdown(selected_province):
    df = fetch_data()
    options = [{'label': name, 'value': name} for name in np.sort(df['nome'].unique())]
    #bar_chart = px.bar(df, x='date', y='quantity', title=f'Sales Quantity for {selected_product}')

    return options

# Run the app in Jupyter notebook
if __name__ == '__main__':
    app.run_server(debug=True, host='127.0.0.1', port=8050)
    """



import requests
import pandas as pd
import numpy as np
import plotly.express as px
from dash import Dash, dcc, html
from dash.dependencies import Input, Output

# Fetch data from the Flask API
def fetch_data():
    response = requests.get('http://127.0.0.1:5000/landslides/surface')
    return pd.DataFrame(response.json())

# Initialize the Dash app
app = Dash(__name__)

# Define the layout
app.layout = html.Div([
    html.H1('Landslides Hub'),

    # Dropdown to select provinces
    dcc.Dropdown(
        id='province-dropdown',
        options=[],
        multi=True,  # Allow multiple selections
        placeholder='Select provinces to compare',
    ),

    # Div to hold the pie charts
    html.Div(id='pie-chart-container', children=[]),
])

@app.callback(
    Output('province-dropdown', 'options'),
    Input('province-dropdown', 'value')
)
def update_dropdown(selected_provinces):
    df = fetch_data()
    options = [{'label': name, 'value': name} for name in np.sort(df['nome'].unique())]
    return options

@app.callback(
    Output('pie-chart-container', 'children'),
    Input('province-dropdown', 'value')
)
def update_pie_charts(selected_provinces):
    df = fetch_data()
    charts = []

    if not selected_provinces:
        return []

    for province in selected_provinces:
        filtered_df = df[df['nome'] == province]
        
        if filtered_df.empty:
            fig = px.pie(values=[100], names=['No data'], title=f'The percentage of high landslides in {province}')
        else:
            high_landslides_percentage = filtered_df['ar_frp3p4p'].values[0]
            remaining_percentage = 100 - high_landslides_percentage

            fig = px.pie(
                values=[high_landslides_percentage, remaining_percentage],
                names=['High Landslide Risk', 'Remaining'],
                color_discrete_sequence=['yellow', 'blue'],
                title=f'The percentage of high landslides in {province}'
            )

        charts.append(
            dcc.Graph(
                figure=fig,
                style={'display': 'inline-block', 'width': '33%', 'padding': '0 20px'}
            )
        )

    return charts

# Run the app
if __name__ == '__main__':
    app.run_server(debug=True, host='127.0.0.1', port=8050)






import requests
import pandas as pd
import numpy as np
import plotly.express as px
from dash import Dash, dcc, html
from dash.dependencies import Input, Output

# Fetch data from the Flask API
def fetch_data():
    response = requests.get('http://127.0.0.1:5000/landslides/surface')
    return pd.DataFrame(response.json())

# Initialize the Dash app
app = Dash(__name__)

# Define the layout
app.layout = html.Div([
    html.H1('Landslides Hub'),

    # Dropdown to select provinces
    dcc.Dropdown(
        id='province-dropdown',
        options=[],
        multi=True,  # Allow multiple selections
        placeholder='Select provinces to compare',
    ),

    # Dropdown to select landslide risk type
    dcc.Dropdown(
        id='risk-type-dropdown',
        options=[
            {'label': 'ar_fr_p1', 'value': 'ar_fr_p1'},
            {'label': 'ar_fr_p2', 'value': 'ar_fr_p2'},
            {'label': 'ar_fr_p3p4', 'value': 'ar_fr_p3p4'}
        ],
        placeholder='Select landslide risk type',
    ),

    # Div to hold the bar chart
    html.Div(id='bar-chart-container')
])

@app.callback(
    Output('province-dropdown', 'options'),
    Input('province-dropdown', 'value')
)
def update_dropdown(selected_provinces):
    df = fetch_data()
    options = [{'label': name, 'value': name} for name in np.sort(df['nome'].unique())]
    return options

@app.callback(
    Output('bar-chart-container', 'children'),
    Input('province-dropdown', 'value'),
    Input('risk-type-dropdown', 'value')
)
def update_bar_chart(selected_provinces, risk_type):
    if not selected_provinces or not risk_type:
        return []

    df = fetch_data()
    filtered_df = df[df['nome'].isin(selected_provinces)]

    if filtered_df.empty:
        return html.Div("No data available for selected provinces.")

    fig = px.bar(
        filtered_df,
        x='nome',  # Province names on x-axis
        y=risk_type,  # Selected risk type on y-axis
        title=f'Landslide Risk ({risk_type}) for Selected Provinces',
        labels={'nome': 'Province', risk_type: 'Landslide Risk (km square)'}
    )

    return dcc.Graph(figure=fig)

# Run the app
if __name__ == '__main__':
    app.run_server(debug=True, host='127.0.0.1', port=8050)



import requests
import pandas as pd
import numpy as np
import plotly.express as px
from dash import Dash, dcc, html
from dash.dependencies import Input, Output

# Fetch data from the Flask API
def fetch_data():
    response = requests.get('http://127.0.0.1:5000/landslides/surface')
    return pd.DataFrame(response.json())

# Initialize the Dash app
app = Dash(__name__)

# Define the layout
app.layout = html.Div([
    html.H1('Landslides Hub'),

    # Dropdown to select provinces
    dcc.Dropdown(
        id='province-dropdown',
        options=[],
        multi=True,  # Allow multiple selections
        placeholder='Select provinces to compare',
    ),

    # Dropdown to select landslide risk type
    dcc.Dropdown(
        id='risk-type-dropdown',
        options=[
            {'label': 'ar_fr_p1', 'value': 'ar_fr_p1'},
            {'label': 'ar_fr_p2', 'value': 'ar_fr_p2'},
            {'label': 'ar_fr_p3p4', 'value': 'ar_fr_p3p4'}
        ],
        placeholder='Select landslide risk type',
    ),

    # Div to hold the bar chart
    html.Div(id='bar-chart-container'),
    html.Div(id='pie-chart-container', children=[])
])

@app.callback(
    Output('province-dropdown', 'options'),
    Input('province-dropdown', 'value')
)
def update_dropdown(selected_provinces):
    df = fetch_data()
    options = [{'label': name, 'value': name} for name in np.sort(df['nome'].unique())]
    return options

@app.callback(
    Output('bar-chart-container', 'children'),
    Input('province-dropdown', 'value'),
    Input('risk-type-dropdown', 'value')
)
def update_bar_chart(selected_provinces, risk_type):
    if not selected_provinces or not risk_type:
        return []

    df = fetch_data()
    filtered_df = df[df['nome'].isin(selected_provinces)]

    if filtered_df.empty:
        return html.Div("No data available for selected provinces.")

    fig = px.bar(
        filtered_df,
        x='nome',  # Province names on x-axis
        y=risk_type,  # Selected risk type on y-axis
        title=f'Landslide Risk ({risk_type}) for Selected Provinces',
        labels={'nome': 'Province', risk_type: 'Landslide Risk (km square)'}
    )

    return dcc.Graph(figure=fig)
@app.callback(
    Output('pie-chart-container', 'children'),
    Input('province-dropdown', 'value')
)
def update_pie_charts(selected_provinces):
    df = fetch_data()
    charts = []

    if not selected_provinces:
        return []

    for province in selected_provinces:
        filtered_df = df[df['nome'] == province]
        
        if filtered_df.empty:
            fig = px.pie(values=[100], names=['No data'], title=f'The percentage of high landslides in {province}')
        else:
            high_landslides_percentage = filtered_df['ar_frp3p4p'].values[0]
            remaining_percentage = 100 - high_landslides_percentage

            fig = px.pie(
                values=[high_landslides_percentage, remaining_percentage],
                names=['High Landslide Risk', 'Remaining'],
                color_discrete_sequence=['yellow', 'blue'],
                title=f'The percentage of high landslides in {province}'
            )

        charts.append(
            dcc.Graph(
                figure=fig,
                style={'display': 'inline-block', 'width': '33%', 'padding': '0 20px'}
            )
        )

    return charts
# Run the app
if __name__ == '__main__':
    app.run_server(debug=True, host='127.0.0.1', port=8050)

