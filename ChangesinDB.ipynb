{
 "cells": [
  {
   "cell_type": "code",
   "execution_count": 1,
   "id": "187e6e8a-0915-47c9-a1dd-e3e73980956d",
   "metadata": {},
   "outputs": [],
   "source": [
    "from sqlalchemy import create_engine, Column, Integer, String, Float\n",
    "from config import db_name, user, password, host\n",
    "from sqlalchemy.ext.declarative import declarative_base\n",
    "from sqlalchemy.orm import sessionmaker\n",
    "from geoalchemy2 import Geometry\n",
    "import geopandas as gpd\n",
    "import pandas as pd\n",
    "from shapely import wkt\n",
    "import psycopg2"
   ]
  },
  {
   "cell_type": "code",
   "execution_count": 2,
   "id": "0d38454a-7ffd-482f-a070-d1e1692a6297",
   "metadata": {},
   "outputs": [],
   "source": [
    "# import packages\n",
    "import requests\n",
    "import json\n",
    "import pandas as pd\n",
    "import geopandas as gpd"
   ]
  },
  {
   "cell_type": "code",
   "execution_count": 3,
   "id": "d978c64f-15d0-4bbc-ba18-6dd6ce753bc6",
   "metadata": {},
   "outputs": [
    {
     "name": "stdout",
     "output_type": "stream",
     "text": [
      "Requirement already satisfied: GeoAlchemy2 in c:\\programdata\\anaconda3\\envs\\se4gdev\\lib\\site-packages (0.14.7)\n",
      "Requirement already satisfied: SQLAlchemy in c:\\programdata\\anaconda3\\envs\\se4gdev\\lib\\site-packages (2.0.30)\n",
      "Requirement already satisfied: psycopg2 in c:\\programdata\\anaconda3\\envs\\se4gdev\\lib\\site-packages (2.9.9)\n",
      "Requirement already satisfied: packaging in c:\\users\\mohd ammar mughees\\appdata\\roaming\\python\\python312\\site-packages (from GeoAlchemy2) (24.1)\n",
      "Requirement already satisfied: typing-extensions>=4.6.0 in c:\\programdata\\anaconda3\\envs\\se4gdev\\lib\\site-packages (from SQLAlchemy) (4.11.0)\n",
      "Requirement already satisfied: greenlet!=0.4.17 in c:\\programdata\\anaconda3\\envs\\se4gdev\\lib\\site-packages (from SQLAlchemy) (3.0.3)\n",
      "Note: you may need to restart the kernel to use updated packages.\n"
     ]
    }
   ],
   "source": [
    "pip install GeoAlchemy2 SQLAlchemy psycopg2"
   ]
  },
  {
   "cell_type": "code",
   "execution_count": 4,
   "id": "b846d530-90e2-47e3-bcc8-47da7cd5e9a0",
   "metadata": {},
   "outputs": [],
   "source": [
    "# send the request\n",
    "def jason2dataf(url):\n",
    "    response = requests.get(url)\n",
    "    response\n",
    "    # store the raw text of the response in a variable\n",
    "    raw_data = response.text\n",
    "    raw_data\n",
    "    # parse the raw text response into a JSON\n",
    "    data = json.loads(raw_data)\n",
    "    data\n",
    "    # from JSON to Pandas DataFrame\n",
    "    data_df = pd.json_normalize(data)\n",
    "    return data_df"
   ]
  },
  {
   "cell_type": "code",
   "execution_count": 5,
   "id": "dda643da-89be-439b-86e2-b86aff4149ed",
   "metadata": {},
   "outputs": [],
   "source": [
    "#dataf_liguria = jason2dataf('https://test.idrogeo.isprambiente.it/api/pir/regioni/7')\n",
    "dataf_lombardia = jason2dataf('https://test.idrogeo.isprambiente.it/api/pir/regioni/3')\n",
    "#dataf_Piemonte = jason2dataf('https://test.idrogeo.isprambiente.it/api/pir/regioni/1')\n",
    "#dataf_valle = jason2dataf('https://test.idrogeo.isprambiente.it/api/pir/regioni/2')\n",
    "data_prov_milan = jason2dataf('https://test.idrogeo.isprambiente.it/api/pir/province/15')\n",
    "data_prov_varese = jason2dataf('https://test.idrogeo.isprambiente.it/api/pir/province/12')\n",
    "data_prov_como = jason2dataf('https://test.idrogeo.isprambiente.it/api/pir/province/13')\n",
    "data_prov_lecco = jason2dataf('https://test.idrogeo.isprambiente.it/api/pir/province/97')\n",
    "data_prov_sondrio = jason2dataf('https://test.idrogeo.isprambiente.it/api/pir/province/14')\n",
    "data_prov_bergamo = jason2dataf('https://test.idrogeo.isprambiente.it/api/pir/province/16')\n",
    "data_prov_brescia = jason2dataf('https://test.idrogeo.isprambiente.it/api/pir/province/17')\n",
    "data_prov_pavia = jason2dataf('https://test.idrogeo.isprambiente.it/api/pir/province/18')\n",
    "data_prov_cremona = jason2dataf('https://test.idrogeo.isprambiente.it/api/pir/province/19')\n",
    "data_prov_mantova = jason2dataf('https://test.idrogeo.isprambiente.it/api/pir/province/20')\n",
    "data_prov_lodi = jason2dataf('https://test.idrogeo.isprambiente.it/api/pir/province/98')\n",
    "data_prov_Monza = jason2dataf('https://test.idrogeo.isprambiente.it/api/pir/province/108')\n",
    "\n"
   ]
  },
  {
   "cell_type": "code",
   "execution_count": 6,
   "id": "e818c8ed-2ab7-4820-b001-98134f0dfe22",
   "metadata": {},
   "outputs": [],
   "source": [
    "# Merge the DataFrames\n",
    "merged_df = pd.concat([data_prov_milan, data_prov_varese,data_prov_como,data_prov_lecco,data_prov_sondrio,data_prov_bergamo,data_prov_brescia,data_prov_pavia,data_prov_cremona,data_prov_mantova,data_prov_lodi,data_prov_Monza]).reset_index(drop=True)\n",
    "\n",
    "# Display the merged DataFrame\n",
    "merged_df.rename(columns={'cod_prov':'COD_PROV'}, inplace=True)\n"
   ]
  },
  {
   "cell_type": "code",
   "execution_count": 7,
   "id": "b57c3a12-007d-4bd9-a9fe-043f4efecb89",
   "metadata": {},
   "outputs": [],
   "source": [
    "shapefile_path_region = \"./Limiti01012024_g/Reg01012024_g/Reg01012024_g_WGS84.shp\"\n",
    "shapefile_path_province = \"./Limiti01012024_g/ProvCM01012024_g/ProvCM01012024_g_WGS84.shp\"\n",
    "gdf_region = gpd.read_file(shapefile_path_region)\n",
    "gdf_province = gpd.read_file(shapefile_path_province)"
   ]
  },
  {
   "cell_type": "code",
   "execution_count": 8,
   "id": "73c50bbe-6c91-460c-bfc6-67b6cce0a2a9",
   "metadata": {},
   "outputs": [],
   "source": [
    "\n",
    "desired_cod_RIP = [15,12,13,97,14,16,17,18,19,20,98,108]\n",
    "\n",
    "# Filter the GeoDataFrame based on the desired cod_RIP values\n",
    "filtered_gdf = gdf_province[gdf_province['COD_PROV'].isin(desired_cod_RIP)]\n",
    "\n",
    "# Display the filtered DataFrame\n"
   ]
  },
  {
   "cell_type": "code",
   "execution_count": 9,
   "id": "79e9e4b9-d668-47ee-acfa-cb81a162ff42",
   "metadata": {},
   "outputs": [],
   "source": [
    "# desired_cod_REG = [3]\n",
    "\n",
    "# # Filter the GeoDataFrame based on the desired cod_RIP values\n",
    "# filtered_gdf2 = filtered_gdf[filtered_gdf['COD_RIP'].isin(desired_cod_REG)]\n",
    "\n",
    "# # Display the filtered DataFrame\n",
    "# print(filtered_gdf2)"
   ]
  },
  {
   "cell_type": "code",
   "execution_count": 10,
   "id": "5938a7ec-c514-47c1-bb81-77c38c04029c",
   "metadata": {},
   "outputs": [],
   "source": [
    "#merged_df2 = merged_df.merge(filtered_gdf[['COD_PROV', 'geometry']], on='COD_PROV', how='left')\n",
    "geometry = filtered_gdf.pop('geometry')\n",
    "filtered_gdf3 = gpd.GeoDataFrame(filtered_gdf, geometry=geometry)\n",
    "merged_df3 = pd.merge(filtered_gdf3, merged_df, on='COD_PROV', how='left')"
   ]
  },
  {
   "cell_type": "code",
   "execution_count": 12,
   "id": "066368e0-d8b9-46d5-b8e9-927d0dbe3459",
   "metadata": {},
   "outputs": [
    {
     "name": "stdout",
     "output_type": "stream",
     "text": [
      "11     POLYGON ((483071.565 5104606.091, 483258.471 5...\n",
      "12     MULTIPOLYGON (((498077.206 5089780.201, 497614...\n",
      "13     POLYGON ((595652.364 5163515.664, 596042.425 5...\n",
      "14     MULTIPOLYGON (((538136.293 5004372.820, 539201...\n",
      "15     POLYGON ((585288.233 5104483.086, 585414.670 5...\n",
      "16     POLYGON ((615296.026 5132340.878, 615374.026 5...\n",
      "17     MULTIPOLYGON (((485536.498 4985444.636, 485366...\n",
      "18     POLYGON ((542189.543 5037362.593, 542408.354 5...\n",
      "19     POLYGON ((632564.649 5031233.651, 632845.881 5...\n",
      "96     POLYGON ((532079.619 5104664.093, 533286.609 5...\n",
      "97     POLYGON ((534551.982 5035118.620, 534818.294 5...\n",
      "103    POLYGON ((519223.708 5065484.377, 519733.948 5...\n",
      "Name: geometry, dtype: geometry\n"
     ]
    }
   ],
   "source": [
    "print(geometry)"
   ]
  },
  {
   "cell_type": "code",
   "execution_count": 13,
   "id": "1ed50ba4-de30-4f7e-b9b8-afd002b060b6",
   "metadata": {},
   "outputs": [
    {
     "name": "stdout",
     "output_type": "stream",
     "text": [
      "    COD_RIP  COD_REG  COD_PROV  COD_CM  COD_UTS               DEN_PROV  \\\n",
      "0         1        3        12       0       12                 Varese   \n",
      "1         1        3        13       0       13                   Como   \n",
      "2         1        3        14       0       14                Sondrio   \n",
      "3         1        3        15     215      215                      -   \n",
      "4         1        3        16       0       16                Bergamo   \n",
      "5         1        3        17       0       17                Brescia   \n",
      "6         1        3        18       0       18                  Pavia   \n",
      "7         1        3        19       0       19                Cremona   \n",
      "8         1        3        20       0       20                Mantova   \n",
      "9         1        3        97       0       97                  Lecco   \n",
      "10        1        3        98       0       98                   Lodi   \n",
      "11        1        3       108       0      108  Monza e della Brianza   \n",
      "\n",
      "    DEN_CM                DEN_UTS SIGLA             TIPO_UTS  ...  bbcc_fr_aa  \\\n",
      "0        -                 Varese    VA            Provincia  ...           0   \n",
      "1        -                   Como    CO            Provincia  ...           0   \n",
      "2        -                Sondrio    SO            Provincia  ...           0   \n",
      "3   Milano                 Milano    MI  Città metropolitana  ...           0   \n",
      "4        -                Bergamo    BG            Provincia  ...           0   \n",
      "5        -                Brescia    BS            Provincia  ...           0   \n",
      "6        -                  Pavia    PV            Provincia  ...           0   \n",
      "7        -                Cremona    CR            Provincia  ...           0   \n",
      "8        -                Mantova    MN            Provincia  ...           0   \n",
      "9        -                  Lecco    LC            Provincia  ...           0   \n",
      "10       -                   Lodi    LO            Provincia  ...           0   \n",
      "11       -  Monza e della Brianza    MB            Provincia  ...           0   \n",
      "\n",
      "    bbccfrp3p4 bbccfrp4_p  bbccfrp3_p  bbccfrp2_p bbccfrp1_p bbccfraa_p  \\\n",
      "0           17      0.817       0.572       3.350          0          0   \n",
      "1           78      2.592       2.729      10.095          0          0   \n",
      "2           49      2.022       2.932      45.399          0          0   \n",
      "3            0      0.000       0.000       0.000          0          0   \n",
      "4           92      1.653       1.727       7.825          0          0   \n",
      "5          104      1.144       1.987      10.509          0          0   \n",
      "6           17      0.377       0.691       1.257          0          0   \n",
      "7            0      0.000       0.000       0.000          0          0   \n",
      "8            0      0.000       0.000       0.000          0          0   \n",
      "9           40      2.061       2.788      16.242          0          0   \n",
      "10           0      0.000       0.000       0.000          0          0   \n",
      "11           0      0.000       0.000       0.000          0          0   \n",
      "\n",
      "   bbccfrp34p  cod_rip  cod_reg  \n",
      "0       1.389        1        3  \n",
      "1       5.321        1        3  \n",
      "2       4.954        1        3  \n",
      "3       0.000        1        3  \n",
      "4       3.380        1        3  \n",
      "5       3.132        1        3  \n",
      "6       1.069        1        3  \n",
      "7       0.000        1        3  \n",
      "8       0.000        1        3  \n",
      "9       4.848        1        3  \n",
      "10      0.000        1        3  \n",
      "11      0.000        1        3  \n",
      "\n",
      "[12 rows x 140 columns]\n"
     ]
    }
   ],
   "source": [
    "print(merged_df3)"
   ]
  },
  {
   "cell_type": "code",
   "execution_count": 14,
   "id": "ec485f21-f8c6-4ad4-aff6-94225c4431ef",
   "metadata": {},
   "outputs": [],
   "source": [
    "merged_gdf = gpd.GeoDataFrame(merged_df3, geometry='geometry')\n",
    "#merged_gdf.plot()"
   ]
  },
  {
   "cell_type": "code",
   "execution_count": 16,
   "id": "501e042c-2f8d-418d-90d0-667e1339d9ba",
   "metadata": {},
   "outputs": [
    {
     "data": {
      "text/plain": [
       "<Projected CRS: EPSG:32632>\n",
       "Name: WGS 84 / UTM zone 32N\n",
       "Axis Info [cartesian]:\n",
       "- E[east]: Easting (metre)\n",
       "- N[north]: Northing (metre)\n",
       "Area of Use:\n",
       "- name: Between 6°E and 12°E, northern hemisphere between equator and 84°N, onshore and offshore. Algeria. Austria. Cameroon. Denmark. Equatorial Guinea. France. Gabon. Germany. Italy. Libya. Liechtenstein. Monaco. Netherlands. Niger. Nigeria. Norway. Sao Tome and Principe. Svalbard. Sweden. Switzerland. Tunisia. Vatican City State.\n",
       "- bounds: (6.0, 0.0, 12.0, 84.0)\n",
       "Coordinate Operation:\n",
       "- name: UTM zone 32N\n",
       "- method: Transverse Mercator\n",
       "Datum: World Geodetic System 1984 ensemble\n",
       "- Ellipsoid: WGS 84\n",
       "- Prime Meridian: Greenwich"
      ]
     },
     "execution_count": 16,
     "metadata": {},
     "output_type": "execute_result"
    }
   ],
   "source": [
    "columns_to_select = ['geometry','cod_reg','cod_rip','COD_PROV','ar_kmq','nome','uid',\n",
    "    'ar_fr_p3p4', 'ar_fr_p2', 'ar_fr_p1', \n",
    "    'pop_fr_p2', 'pop_fr_p1', \n",
    "    'ed_fr_p2', 'ed_fr_p1', \n",
    "    'ar_frp3p4p', 'popfrp3p4p', \n",
    "    'ed_fr_p3p4', 'edfrp3p4p'\n",
    "]\n",
    "\n",
    "# Select the columns\n",
    "selected_df = merged_gdf[columns_to_select]\n",
    "selected_df2 = selected_df.copy()\n",
    "type(selected_df2['geometry'].iloc[0])\n",
    "selected_df2.crs\n"
   ]
  },
  {
   "cell_type": "code",
   "execution_count": null,
   "id": "11ed99b8-3d45-4f60-86e9-d8e38033a6f1",
   "metadata": {},
   "outputs": [],
   "source": [
    "\n",
    "# Database connection parameters\n",
    "# with open('config.py', 'w') as f:\n",
    "#     f.write(db_name = input(f'Enter the database name for the postgres:\\n'))\n",
    "#     f.write(user = input(f'Enter the user for the postgres:\\n'))\n",
    "#     f.write(password = input(f'Enter the Password for the postgres:\\n'))\n",
    "#     f.write(host = input(f'Enter the host for the postgres:\\n'))\n",
    "\n",
    "# db_name = \"project\"\n",
    "# user = \"postgres\"\n",
    "# password = \"admin\"\n",
    "# host = \"localhost\"\n",
    "print (db_name, user, password, host)\n",
    "# db_name = \"project\"\n",
    "# user = \"postgres\"\n",
    "# password = \"admin\"\n",
    "# host = \"localhost\"\n",
    "\n",
    "# Connect to the default database to create the new database\n",
    "conn = psycopg2.connect(dbname=\"postgres\", user=user, password=password, host=host)\n",
    "conn.autocommit = True # needed to create a db programmatically\n",
    "cursor = conn.cursor()\n",
    "\n",
    "# Create the database\n",
    "try:\n",
    "    cursor.execute(f\"CREATE DATABASE {db_name};\")\n",
    "except: pass\n",
    "\n",
    "conn.close()"
   ]
  },
  {
   "cell_type": "code",
   "execution_count": null,
   "id": "d0227037-dd9f-4760-bdc4-59c2bf378e60",
   "metadata": {},
   "outputs": [],
   "source": [
    "from shapely.wkb import loads as wkb_loads\n",
    "from shapely.wkt import dumps as wkt_dumps\n",
    "from shapely.geometry import MultiPolygon, Polygon\n",
    "from sqlalchemy.ext.declarative import declarative_base\n",
    "from sqlalchemy import Column, Integer, String, Text, create_engine\n",
    "from sqlalchemy.orm import sessionmaker\n",
    "\n",
    "# Define the Base class for SQLAlchemy\n",
    "Base = declarative_base()\n",
    "\n",
    "# Define your SQLAlchemy model\n",
    "class Dataset(Base):\n",
    "    __tablename__ = 'dataset'\n",
    "\n",
    "    id = Column(Integer, primary_key=True)\n",
    "    cod_reg = Column(Integer)\n",
    "    cod_rip = Column(Integer)\n",
    "    cod_prov = Column(Integer)\n",
    "    ar_kmq = Column(Integer)\n",
    "    nome = Column(String)\n",
    "    uid = Column(Integer)\n",
    "    ar_fr_p3p4 = Column(Integer)\n",
    "    ar_fr_p2 = Column(Integer)\n",
    "    ar_fr_p1 = Column(Integer)\n",
    "    pop_fr_p2 = Column(Integer)\n",
    "    pop_fr_p1 = Column(Integer)\n",
    "    ed_fr_p2 = Column(Integer)\n",
    "    ed_fr_p1 = Column(Integer)\n",
    "    ar_frp3p4p = Column(Integer)\n",
    "    popfrp3p4p = Column(Integer)\n",
    "    ed_fr_p3p4 = Column(Integer)\n",
    "    edfrp3p4p = Column(Integer)\n",
    "    geometry = Column(Text)  # Assuming you're storing geometry as WKT in a text column\n",
    "\n",
    "    def __repr__(self):\n",
    "        return f\"<Dataset(id={self.id}, nome='{self.nome}')>\""
   ]
  },
  {
   "cell_type": "code",
   "execution_count": null,
   "id": "9bbab90b-169e-436a-8676-7c7da1ff1ba8",
   "metadata": {},
   "outputs": [],
   "source": [
    "# Function to convert WKB to WKT\n",
    "def convert_wkb_to_wkt(geom):\n",
    "    if isinstance(geom, str):\n",
    "        geom = bytes.fromhex(geom)  # Convert hex string to bytes\n",
    "    if isinstance(geom, (bytes, bytearray)):\n",
    "        return wkt_dumps(wkb_loads(geom))  # Convert WKB to Shapely geometry, then to WKT\n",
    "    elif isinstance(geom, (MultiPolygon, Polygon)):\n",
    "        return wkt_dumps(geom)  # If it's already a Shapely geometry, convert directly to WKT\n",
    "    else:\n",
    "        raise TypeError(f\"Unexpected geometry type: {type(geom)}\")\n",
    "\n",
    "# Apply conversion function to the 'geometry' column\n",
    "selected_df2['geometry_wkt'] = selected_df2['geometry'].apply(convert_wkb_to_wkt)\n",
    "\n",
    "# Print the type of the first geometry to confirm conversion\n",
    "print(type(selected_df2['geometry_wkt'].iloc[0]))  # Should be <class 'str'>\n",
    "print(selected_df2['geometry_wkt'].head())  # Optionally, check the first few rows\n",
    "\n",
    "# Connect to the database (replace with your actual database URI)\n",
    "# Create an engine and connect to the PostgreSQL database\n",
    "engine = create_engine(f'postgresql+psycopg2://{user}:{password}@{host}:5432/{db_name}')\n",
    "\n",
    "# Create the table\n",
    "Base.metadata.create_all(engine)\n",
    "\n",
    "# Inserting Data into the Database\n",
    "Session = sessionmaker(bind=engine)\n",
    "session = Session()\n",
    "\n",
    "for index, row in selected_df2.iterrows():\n",
    "    dataset_entry = Dataset(\n",
    "        cod_reg=row['cod_reg'],\n",
    "        cod_rip=row['cod_rip'],\n",
    "        cod_prov=row['COD_PROV'],\n",
    "        ar_kmq=row['ar_kmq'],\n",
    "        nome=row['nome'],\n",
    "        uid=row['uid'],\n",
    "        ar_fr_p3p4=row['ar_fr_p3p4'],\n",
    "        ar_fr_p2=row['ar_fr_p2'],\n",
    "        ar_fr_p1=row['ar_fr_p1'],\n",
    "        pop_fr_p2=row['pop_fr_p2'],\n",
    "        pop_fr_p1=row['pop_fr_p1'],\n",
    "        ed_fr_p2=row['ed_fr_p2'],\n",
    "        ed_fr_p1=row['ed_fr_p1'],\n",
    "        ar_frp3p4p=row['ar_frp3p4p'],\n",
    "        popfrp3p4p=row['popfrp3p4p'],\n",
    "        ed_fr_p3p4=row['ed_fr_p3p4'],\n",
    "        edfrp3p4p=row['edfrp3p4p'],\n",
    "        geometry=row['geometry_wkt']  # Insert WKT geometry\n",
    "    )\n",
    "    session.add(dataset_entry)\n",
    "\n",
    "try:\n",
    "    session.commit()\n",
    "except Exception as e:\n",
    "    session.rollback()\n",
    "    print(f\"Error committing session: {e}\")\n",
    "finally:\n",
    "    session.close()"
   ]
  },
  {
   "cell_type": "code",
   "execution_count": null,
   "id": "bdfa7b3f-b200-4b89-8626-f6dac09e53b1",
   "metadata": {},
   "outputs": [],
   "source": []
  },
  {
   "cell_type": "code",
   "execution_count": null,
   "id": "c466b26c-5c93-4579-915b-68e179b0288a",
   "metadata": {},
   "outputs": [],
   "source": []
  },
  {
   "cell_type": "code",
   "execution_count": null,
   "id": "7aae87a4-3b9c-4335-a502-84acba09f685",
   "metadata": {},
   "outputs": [],
   "source": []
  },
  {
   "cell_type": "code",
   "execution_count": null,
   "id": "4fe93d6c-7fe2-40dc-98a6-930886b4add9",
   "metadata": {},
   "outputs": [],
   "source": []
  },
  {
   "cell_type": "code",
   "execution_count": null,
   "id": "86803acc-7155-4e7d-8191-ffea321c6a41",
   "metadata": {},
   "outputs": [],
   "source": []
  },
  {
   "cell_type": "code",
   "execution_count": null,
   "id": "28a7053e-1b7d-47b3-b2f6-9a01e74d5704",
   "metadata": {},
   "outputs": [],
   "source": []
  },
  {
   "cell_type": "code",
   "execution_count": null,
   "id": "8d2023cd-d59c-45e2-a13c-123d4c017a0d",
   "metadata": {},
   "outputs": [],
   "source": []
  },
  {
   "cell_type": "code",
   "execution_count": null,
   "id": "c59a1aa6-0ba7-47ec-a124-2913ba1958f6",
   "metadata": {},
   "outputs": [],
   "source": []
  },
  {
   "cell_type": "code",
   "execution_count": null,
   "id": "d8daf54b-8f72-43b9-b108-824051d8fa95",
   "metadata": {},
   "outputs": [],
   "source": []
  },
  {
   "cell_type": "code",
   "execution_count": null,
   "id": "7dcfd21d-f31d-4f26-bb6d-f59c2fae83c7",
   "metadata": {},
   "outputs": [],
   "source": []
  },
  {
   "cell_type": "code",
   "execution_count": null,
   "id": "0d732316-128d-48ea-b0e5-59507c5f9308",
   "metadata": {},
   "outputs": [],
   "source": []
  },
  {
   "cell_type": "code",
   "execution_count": null,
   "id": "a320d9b8-a244-44bf-bda8-c4e92e2c8932",
   "metadata": {},
   "outputs": [],
   "source": []
  }
 ],
 "metadata": {
  "kernelspec": {
   "display_name": "Python 3 (ipykernel)",
   "language": "python",
   "name": "python3"
  },
  "language_info": {
   "codemirror_mode": {
    "name": "ipython",
    "version": 3
   },
   "file_extension": ".py",
   "mimetype": "text/x-python",
   "name": "python",
   "nbconvert_exporter": "python",
   "pygments_lexer": "ipython3",
   "version": "3.12.3"
  }
 },
 "nbformat": 4,
 "nbformat_minor": 5
}
