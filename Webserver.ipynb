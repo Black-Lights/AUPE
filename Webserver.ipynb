{
 "cells": [
  {
   "cell_type": "code",
   "execution_count": 1,
   "id": "501d814d-367c-423d-8922-d3d3942cc8ee",
   "metadata": {},
   "outputs": [
    {
     "name": "stdout",
     "output_type": "stream",
     "text": [
      "Requirement already satisfied: nbformat in c:\\users\\91700\\anaconda3\\envs\\se4g24\\lib\\site-packages (5.10.3)\n",
      "Requirement already satisfied: ipython in c:\\users\\91700\\anaconda3\\envs\\se4g24\\lib\\site-packages (8.22.2)\n",
      "Requirement already satisfied: fastjsonschema in c:\\users\\91700\\anaconda3\\envs\\se4g24\\lib\\site-packages (from nbformat) (2.19.1)\n",
      "Requirement already satisfied: jsonschema>=2.6 in c:\\users\\91700\\anaconda3\\envs\\se4g24\\lib\\site-packages (from nbformat) (4.21.1)\n",
      "Requirement already satisfied: jupyter-core in c:\\users\\91700\\anaconda3\\envs\\se4g24\\lib\\site-packages (from nbformat) (5.7.2)\n",
      "Requirement already satisfied: traitlets>=5.1 in c:\\users\\91700\\anaconda3\\envs\\se4g24\\lib\\site-packages (from nbformat) (5.14.2)\n",
      "Requirement already satisfied: decorator in c:\\users\\91700\\anaconda3\\envs\\se4g24\\lib\\site-packages (from ipython) (5.1.1)\n",
      "Requirement already satisfied: jedi>=0.16 in c:\\users\\91700\\anaconda3\\envs\\se4g24\\lib\\site-packages (from ipython) (0.19.1)\n",
      "Requirement already satisfied: matplotlib-inline in c:\\users\\91700\\anaconda3\\envs\\se4g24\\lib\\site-packages (from ipython) (0.1.6)\n",
      "Requirement already satisfied: prompt-toolkit<3.1.0,>=3.0.41 in c:\\users\\91700\\anaconda3\\envs\\se4g24\\lib\\site-packages (from ipython) (3.0.42)\n",
      "Requirement already satisfied: pygments>=2.4.0 in c:\\users\\91700\\anaconda3\\envs\\se4g24\\lib\\site-packages (from ipython) (2.17.2)\n",
      "Requirement already satisfied: stack-data in c:\\users\\91700\\anaconda3\\envs\\se4g24\\lib\\site-packages (from ipython) (0.6.2)\n",
      "Requirement already satisfied: colorama in c:\\users\\91700\\anaconda3\\envs\\se4g24\\lib\\site-packages (from ipython) (0.4.6)\n",
      "Requirement already satisfied: parso<0.9.0,>=0.8.3 in c:\\users\\91700\\anaconda3\\envs\\se4g24\\lib\\site-packages (from jedi>=0.16->ipython) (0.8.3)\n",
      "Requirement already satisfied: attrs>=22.2.0 in c:\\users\\91700\\anaconda3\\envs\\se4g24\\lib\\site-packages (from jsonschema>=2.6->nbformat) (23.2.0)\n",
      "Requirement already satisfied: jsonschema-specifications>=2023.03.6 in c:\\users\\91700\\anaconda3\\envs\\se4g24\\lib\\site-packages (from jsonschema>=2.6->nbformat) (2023.12.1)\n",
      "Requirement already satisfied: referencing>=0.28.4 in c:\\users\\91700\\anaconda3\\envs\\se4g24\\lib\\site-packages (from jsonschema>=2.6->nbformat) (0.34.0)\n",
      "Requirement already satisfied: rpds-py>=0.7.1 in c:\\users\\91700\\anaconda3\\envs\\se4g24\\lib\\site-packages (from jsonschema>=2.6->nbformat) (0.18.0)\n",
      "Requirement already satisfied: wcwidth in c:\\users\\91700\\anaconda3\\envs\\se4g24\\lib\\site-packages (from prompt-toolkit<3.1.0,>=3.0.41->ipython) (0.2.13)\n",
      "Requirement already satisfied: platformdirs>=2.5 in c:\\users\\91700\\anaconda3\\envs\\se4g24\\lib\\site-packages (from jupyter-core->nbformat) (4.2.0)\n",
      "Requirement already satisfied: pywin32>=300 in c:\\users\\91700\\anaconda3\\envs\\se4g24\\lib\\site-packages (from jupyter-core->nbformat) (306)\n",
      "Requirement already satisfied: executing>=1.2.0 in c:\\users\\91700\\anaconda3\\envs\\se4g24\\lib\\site-packages (from stack-data->ipython) (2.0.1)\n",
      "Requirement already satisfied: asttokens>=2.1.0 in c:\\users\\91700\\anaconda3\\envs\\se4g24\\lib\\site-packages (from stack-data->ipython) (2.4.1)\n",
      "Requirement already satisfied: pure-eval in c:\\users\\91700\\anaconda3\\envs\\se4g24\\lib\\site-packages (from stack-data->ipython) (0.2.2)\n",
      "Requirement already satisfied: six>=1.12.0 in c:\\users\\91700\\anaconda3\\envs\\se4g24\\lib\\site-packages (from asttokens>=2.1.0->stack-data->ipython) (1.16.0)\n"
     ]
    }
   ],
   "source": [
    "!pip install nbformat ipython"
   ]
  },
  {
   "cell_type": "code",
   "execution_count": null,
   "id": "768b4747-5fec-4c65-ab85-cc8846298a53",
   "metadata": {},
   "outputs": [],
   "source": [
    "from flask import Flask, jsonify\n",
    "import psycopg2\n",
    "from psycopg2.extras import RealDictCursor\n",
    "from config import db_name, user, password, host\n",
    "\n",
    "app = Flask(__name__)\n",
    "\n",
    "def get_db_connection():\n",
    "    try:\n",
    "        conn = psycopg2.connect(\n",
    "            dbname= db_name,\n",
    "            user= user ,\n",
    "            password= password,\n",
    "            host= host\n",
    "        )\n",
    "        return conn\n",
    "    except psycopg2.Error as e:\n",
    "        app.logger.error(f\"Error connecting to database: {e}\")\n",
    "        return None\n",
    "\n",
    "@app.route('/landslides/surface', methods=['GET'])\n",
    "def get_landslides():\n",
    "    conn = get_db_connection()\n",
    "    if conn is None:\n",
    "        return jsonify({\"error\": \"Database connection error\"}), 500\n",
    "    \n",
    "    try:\n",
    "        cursor = conn.cursor(cursor_factory=RealDictCursor)\n",
    "        cursor.execute(\" SELECT ST_AsText(geometry) AS geometry_wkt, ar_kmq , nome, ar_fr_p2, ar_fr_p1, ar_fr_p3p4, ar_frp3p4p FROM dataset ;\")\n",
    "        landslides = cursor.fetchall()\n",
    "        cursor.close()\n",
    "        conn.close()\n",
    "        return jsonify(landslides)\n",
    "    except psycopg2.Error as e:\n",
    "        app.logger.error(f\"Error executing SQL query: {e}\")\n",
    "        return jsonify({\"error\": \"Internal Server Error\"}), 500\n",
    "\n",
    "if __name__ == '__main__':\n",
    "    app.run(debug=True, host='127.0.0.1', port=5000, use_reloader=False)\n"
   ]
  },
  {
   "cell_type": "code",
   "execution_count": null,
   "id": "a3fe36f0-297a-41e2-85c0-6c1254ceab0b",
   "metadata": {},
   "outputs": [],
   "source": []
  }
 ],
 "metadata": {
  "kernelspec": {
   "display_name": "Python 3 (ipykernel)",
   "language": "python",
   "name": "python3"
  },
  "language_info": {
   "codemirror_mode": {
    "name": "ipython",
    "version": 3
   },
   "file_extension": ".py",
   "mimetype": "text/x-python",
   "name": "python",
   "nbconvert_exporter": "python",
   "pygments_lexer": "ipython3",
   "version": "3.12.2"
  }
 },
 "nbformat": 4,
 "nbformat_minor": 5
}
