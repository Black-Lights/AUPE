{
 "cells": [
  {
   "cell_type": "code",
   "execution_count": null,
   "id": "768b4747-5fec-4c65-ab85-cc8846298a53",
   "metadata": {},
   "outputs": [
    {
     "name": "stdout",
     "output_type": "stream",
     "text": [
      " * Serving Flask app '__main__'\n",
      " * Debug mode: on\n"
     ]
    },
    {
     "name": "stderr",
     "output_type": "stream",
     "text": [
      "WARNING: This is a development server. Do not use it in a production deployment. Use a production WSGI server instead.\n",
      " * Running on http://127.0.0.1:5000\n",
      "Press CTRL+C to quit\n",
      "127.0.0.1 - - [22/Jun/2024 12:12:08] \"GET /landslides/surface HTTP/1.1\" 200 -\n",
      "127.0.0.1 - - [22/Jun/2024 12:12:08] \"GET /landslides/surface HTTP/1.1\" 200 -\n",
      "127.0.0.1 - - [22/Jun/2024 12:12:12] \"GET /landslides/surface HTTP/1.1\" 200 -\n",
      "127.0.0.1 - - [22/Jun/2024 12:12:12] \"GET /landslides/surface HTTP/1.1\" 200 -\n",
      "127.0.0.1 - - [22/Jun/2024 12:12:14] \"GET /landslides/surface HTTP/1.1\" 200 -\n"
     ]
    }
   ],
   "source": [
    "from flask import Flask, jsonify\n",
    "import psycopg2\n",
    "from psycopg2.extras import RealDictCursor\n",
    "\n",
    "app = Flask(__name__)\n",
    "\n",
    "def get_db_connection():\n",
    "    try:\n",
    "        conn = psycopg2.connect(\n",
    "            dbname=\"project\",\n",
    "            user=\"postgres\",\n",
    "            password=\"admin\",\n",
    "            host=\"localhost\"\n",
    "        )\n",
    "        return conn\n",
    "    except psycopg2.Error as e:\n",
    "        app.logger.error(f\"Error connecting to database: {e}\")\n",
    "        return None\n",
    "\n",
    "@app.route('/landslides/surface', methods=['GET'])\n",
    "def get_landslides():\n",
    "    conn = get_db_connection()\n",
    "    if conn is None:\n",
    "        return jsonify({\"error\": \"Database connection error\"}), 500\n",
    "    \n",
    "    try:\n",
    "        cursor = conn.cursor(cursor_factory=RealDictCursor)\n",
    "        cursor.execute(\" SELECT ST_AsText(geometry) AS geometry_wkt, ar_kmq , nome, ar_fr_p2, ar_fr_p1, ar_fr_p3p4, ar_frp3p4p FROM dataset ;\")\n",
    "        landslides = cursor.fetchall()\n",
    "        cursor.close()\n",
    "        conn.close()\n",
    "        return jsonify(landslides)\n",
    "    except psycopg2.Error as e:\n",
    "        app.logger.error(f\"Error executing SQL query: {e}\")\n",
    "        return jsonify({\"error\": \"Internal Server Error\"}), 500\n",
    "\n",
    "if __name__ == '__main__':\n",
    "    app.run(debug=True, host='127.0.0.1', port=5000, use_reloader=False)\n",
    "\n",
    "\n",
    "@app.route('/landslides/surface', methods=['GET'])"
   ]
  },
  {
   "cell_type": "code",
   "execution_count": null,
   "id": "a3fe36f0-297a-41e2-85c0-6c1254ceab0b",
   "metadata": {},
   "outputs": [],
   "source": []
  }
 ],
 "metadata": {
  "kernelspec": {
   "display_name": "Python 3 (ipykernel)",
   "language": "python",
   "name": "python3"
  },
  "language_info": {
   "codemirror_mode": {
    "name": "ipython",
    "version": 3
   },
   "file_extension": ".py",
   "mimetype": "text/x-python",
   "name": "python",
   "nbconvert_exporter": "python",
   "pygments_lexer": "ipython3",
   "version": "3.12.2"
  }
 },
 "nbformat": 4,
 "nbformat_minor": 5
}
